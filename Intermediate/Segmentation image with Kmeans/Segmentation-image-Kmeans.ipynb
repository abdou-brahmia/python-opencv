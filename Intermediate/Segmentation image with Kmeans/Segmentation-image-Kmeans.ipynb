{
 "metadata": {
  "language_info": {
   "codemirror_mode": {
    "name": "ipython",
    "version": 3
   },
   "file_extension": ".py",
   "mimetype": "text/x-python",
   "name": "python",
   "nbconvert_exporter": "python",
   "pygments_lexer": "ipython3",
   "version": "3.6.9"
  },
  "orig_nbformat": 2,
  "kernelspec": {
   "name": "python369jvsc74a57bd031f2aee4e71d21fbe5cf8b01ff0e069b9275f58929596ceb00d14d90e3e16cd6",
   "display_name": "Python 3.6.9 64-bit"
  },
  "metadata": {
   "interpreter": {
    "hash": "31f2aee4e71d21fbe5cf8b01ff0e069b9275f58929596ceb00d14d90e3e16cd6"
   }
  }
 },
 "nbformat": 4,
 "nbformat_minor": 2,
 "cells": [
  {
   "cell_type": "code",
   "execution_count": 1,
   "metadata": {},
   "outputs": [],
   "source": [
    "import cv2\n",
    "import numpy as np\n",
    "import matplotlib.pyplot as plt\n",
    "\n",
    "img=cv2.imread('img1.jpg')"
   ]
  },
  {
   "cell_type": "code",
   "execution_count": 29,
   "metadata": {},
   "outputs": [],
   "source": [
    "def distansse(point,type_distance):\n",
    "    tab=[]\n",
    "\n",
    "    x1,y1,z1=point\n",
    "    for i in range(len(vecteur)):\n",
    "        x2,y2,z2=vecteur[i]\n",
    "        if type_distance==1:\n",
    "            tab.append( ((x1-x2)**2 + (y1-y2)**2 + (z1-z2)**2)**(1/2) )\n",
    "    return tab.index(min(tab))\n",
    "\n",
    "\n",
    "def calcule_centres(img,img2):\n",
    "    w,h,_=img.shape\n",
    "    for i in range(len(vecteur)):\n",
    "        val1,val2,val3=0,0,0\n",
    "        cnt=0\n",
    "        for p1 in range(w):\n",
    "            for p2 in range(h):\n",
    "                if img2[p1,p2]==i:\n",
    "                    val1+=img[p1,p2][0]\n",
    "                    val2+=img[p1,p2][1]\n",
    "                    val3+=img[p1,p2][2]\n",
    "                    cnt+=1\n",
    "        if cnt!=0:\n",
    "            val1=val1//cnt\n",
    "            val2=val2//cnt\n",
    "            val3=val3//cnt\n",
    "        else:\n",
    "            val1=0\n",
    "            val2=0\n",
    "            val3=0\n",
    "\n",
    "        vecteur[i]=val1,val2,val3\n",
    "        \n",
    "def kmeans(img,k):\n",
    "    state=True\n",
    "    max_itiration=100\n",
    "    nbr_itiration=0\n",
    "    global vecteur\n",
    "    vecteur=[]\n",
    "    w,h,_=img.shape\n",
    "    print(w,h)\n",
    "    \n",
    "    if w*h>k:  # number of informations (pixels) greater than number of classes\n",
    "        \n",
    "        \n",
    "        j1,j2=0,0\n",
    "        while ((j1<w) and (j2<h) and (len(vecteur)<k)):\n",
    "            if list(img[j2,j1]) not in (vecteur):\n",
    "                vecteur.append(list(img[j2,j1]))\n",
    "            j2+=1\n",
    "            if j2==w:\n",
    "                j2=0\n",
    "                j1+=1\n",
    "        \n",
    "        img2=np.zeros((w,h),np.uint8)\n",
    "        img3=np.zeros((w,h),np.uint8)\n",
    "\n",
    "        while (state and nbr_itiration<max_itiration):\n",
    "\n",
    "            for i in range(w):\n",
    "                for j in range(h):\n",
    "                    img3=img2.copy()\n",
    "                    img2[i,j]=distansse(img[i,j],1)\n",
    "                \n",
    "            calcule_centres(img,img2)\n",
    "\n",
    "            if  nbr_itiration!=0:\n",
    "\n",
    "                temp_state=True\n",
    "                ii,jj=0,0\n",
    "                while(jj<h and temp_state):\n",
    "                    if img2[ii,jj]!=img3[ii,jj]:\n",
    "                        temp_state=False\n",
    "                    ii+=1\n",
    "                    if ii==w:\n",
    "                        jj+=1\n",
    "                        ii=0\n",
    "\n",
    "                if temp_state:\n",
    "                    state=False\n",
    "\n",
    "            nbr_itiration+=1\n",
    "        \n",
    "        img_res=img.copy()\n",
    "        for i in range(w):\n",
    "            for j in range(h):\n",
    "                img_res[i,j]=vecteur[img2[i,j]]  \n",
    "        print(vecteur)\n",
    "        \n",
    "\n",
    "        return img_res\n",
    "    else:\n",
    "        return None"
   ]
  },
  {
   "cell_type": "code",
   "execution_count": 35,
   "metadata": {
    "tags": []
   },
   "outputs": [
    {
     "output_type": "stream",
     "name": "stdout",
     "text": [
      "50 50\n",
      "[(96, 96, 96), (253, 252, 252), (231, 143, 145), (85, 85, 254)]\n",
      "/home/abdou/.local/lib/python3.6/site-packages/ipykernel_launcher.py:8: RuntimeWarning: overflow encountered in ubyte_scalars\n",
      "  \n"
     ]
    }
   ],
   "source": [
    "res=kmeans(img,4)"
   ]
  },
  {
   "cell_type": "code",
   "execution_count": 40,
   "metadata": {},
   "outputs": [
    {
     "output_type": "display_data",
     "data": {
      "text/plain": "<Figure size 432x288 with 1 Axes>",
      "image/svg+xml": "<?xml version=\"1.0\" encoding=\"utf-8\" standalone=\"no\"?>\n<!DOCTYPE svg PUBLIC \"-//W3C//DTD SVG 1.1//EN\"\n  \"http://www.w3.org/Graphics/SVG/1.1/DTD/svg11.dtd\">\n<!-- Created with matplotlib (https://matplotlib.org/) -->\n<svg height=\"250.142944pt\" version=\"1.1\" viewBox=\"0 0 251.565 250.142944\" width=\"251.565pt\" xmlns=\"http://www.w3.org/2000/svg\" xmlns:xlink=\"http://www.w3.org/1999/xlink\">\n <metadata>\n  <rdf:RDF xmlns:cc=\"http://creativecommons.org/ns#\" xmlns:dc=\"http://purl.org/dc/elements/1.1/\" xmlns:rdf=\"http://www.w3.org/1999/02/22-rdf-syntax-ns#\">\n   <cc:Work>\n    <dc:type rdf:resource=\"http://purl.org/dc/dcmitype/StillImage\"/>\n    <dc:date>2021-05-17T03:24:14.531404</dc:date>\n    <dc:format>image/svg+xml</dc:format>\n    <dc:creator>\n     <cc:Agent>\n      <dc:title>Matplotlib v3.3.4, https://matplotlib.org/</dc:title>\n     </cc:Agent>\n    </dc:creator>\n   </cc:Work>\n  </rdf:RDF>\n </metadata>\n <defs>\n  <style type=\"text/css\">*{stroke-linecap:butt;stroke-linejoin:round;}</style>\n </defs>\n <g id=\"figure_1\">\n  <g id=\"patch_1\">\n   <path d=\"M 0 250.142944 \nL 251.565 250.142944 \nL 251.565 0 \nL 0 0 \nz\n\" style=\"fill:none;\"/>\n  </g>\n  <g id=\"axes_1\">\n   <g id=\"patch_2\">\n    <path d=\"M 26.925 226.264819 \nL 244.365 226.264819 \nL 244.365 8.824819 \nL 26.925 8.824819 \nz\n\" style=\"fill:#ffffff;\"/>\n   </g>\n   <g clip-path=\"url(#p1b1ed59472)\">\n    <image height=\"218\" id=\"image026a9a05ff\" transform=\"scale(1 -1)translate(0 -218)\" width=\"218\" x=\"26.925\" xlink:href=\"data:image/png;base64,\niVBORw0KGgoAAAANSUhEUgAAANoAAADaCAYAAADAHVzbAAAEq0lEQVR4nO3dTY7cVBhA0eqINbANxG5gTM0QC8gKWECUWWcMu4myDdbQIcwQbdwqt9u+tsvnzCJEqtLh6uO955+Hp6ev3y7Aqt5t/QXgDIQGAaFBQGgQEBoEhAYBoUFAaBAQGgSEBgGhQUBoEBAaBIQGAaFBQGgQEBoEhAYBoUFAaBAQGgSEBgGhQUBoEBAaBL7b+guwjo8f/nr2619/+z75nDnW+m57YqJBQGgQEBoEhAaBB69tOr6xDYnPX95v8E2W8+MPvz/79dE3TEw0CAgNAkKDgANrdmm4xrxen//z4Rructn3Os5Eg4DQICA0CDhHO6nr9Zetv8LqHh8/bf0V/mWiQUBoEBAaBIQGAQfWJzW2UXCGDZKtmGgQEBoEhAYBB9a86Og3lO7p5lETDQJCg4DQIGCNxpsc6exty4uMTTQICA0CQoOA0CBgM4RFHWlz5HLpNkhMNAgIDQJCg4AbP1nU2BOE93whcvUKYhMNAkKDgNAg4ByN1Q3XQXtes631lhoTDQJCg4DQICA0CNgMIXfGC49NNAgIDQJCg4A1Gps7w5rNRIOA0CAgNAi48ZPNHe1m0TlMNAgIDQJCg4DQIGAz5IDGXnm7hupVtGOfc70mHz3J2GbNa5loEBAaBIQGARcVb6xab62lWsdteeGxGz/hIIQGAaFBQGgQsBlyOf6GxJaqzZCho22OmGgQEBoEhAaBU15UPGdNttZaxPrwHEw0CAgNAkKDwCnXaENbnQVN/eyt1nFb/lxu2fLJWcO/jyk/JxMNAkKDgNAgIDQInGIz5OiHwrcW20v9+fa8+bEn/990uX2RsYkGAaFBQGgQOMUa7d6dcW11tNc6mWgQEBoEhAYBazR4o7EHBQ0f4GOiQUBoEBAaBIQGgVNshgwPdIcX4Y5dlHvGQ2DWY6JBQGgQEBoETrFGG7L+Op6j37xrokFAaBAQGgS88fMy7f//reu2teUbPpdgokFAaBAQGgSEBgGbIS+4tUFic6RlMwS4SWgQEBoETnlR8RTWYLxk7LW+Q8P/fkw0CAgNAkKDgNAgYDNkojl3+NpQuU9z/l5NNAgIDQJCg4A12kS3nnbMsu7t52uiQUBoEBAaBGat0d79/NOr/52///hzzkftljOydX3+8n7rr7AoEw0CQoOA0CAgNAhkB9ZjGyj3tkHCPPd2OD3GRIOA0CAgNAi4qJjc0Z46POWpV7eYaBAQGgSEBgFrNFZ39HOyJS4gN9EgIDQICA0CQoOAzRD4jyUOp8eYaBAQGgSEBgGhQUBoEBAaBIQGgYenp6/f3vqbzHly8eXi4TxnNbzIeO9PJX58/PTm38NEg4DQICA0CAgNAi4qJje8Y/l63eiLTDTcvJlzx7WJBgGhQUBoELBGY3NjN1vu/RD7tUw0CAgNAkKDgDUamxs7l/r44fm6rVqzja0XPakYDkJoEBAaBIQGgUXusIa1rfU63iXunp7CRIOA0CAgNAg4sOYQhgfJcw6w13pTzBQmGgSEBgGhQUBoEHBgzSENn0w1Zomr7pdiokFAaBAQGgSs0SBgokFAaBAQGgSEBgGhQUBoEBAaBIQGAaFBQGgQEBoEhAaBfwDmNvxbAy/jqwAAAABJRU5ErkJggg==\" y=\"-8.264819\"/>\n   </g>\n   <g id=\"matplotlib.axis_1\">\n    <g id=\"xtick_1\">\n     <g id=\"line2d_1\">\n      <defs>\n       <path d=\"M 0 0 \nL 0 3.5 \n\" id=\"m2c1ebf3212\" style=\"stroke:#000000;stroke-width:0.8;\"/>\n      </defs>\n      <g>\n       <use style=\"stroke:#000000;stroke-width:0.8;\" x=\"29.0994\" xlink:href=\"#m2c1ebf3212\" y=\"226.264819\"/>\n      </g>\n     </g>\n     <g id=\"text_1\">\n      <!-- 0 -->\n      <g transform=\"translate(25.91815 240.863256)scale(0.1 -0.1)\">\n       <defs>\n        <path d=\"M 31.78125 66.40625 \nQ 24.171875 66.40625 20.328125 58.90625 \nQ 16.5 51.421875 16.5 36.375 \nQ 16.5 21.390625 20.328125 13.890625 \nQ 24.171875 6.390625 31.78125 6.390625 \nQ 39.453125 6.390625 43.28125 13.890625 \nQ 47.125 21.390625 47.125 36.375 \nQ 47.125 51.421875 43.28125 58.90625 \nQ 39.453125 66.40625 31.78125 66.40625 \nz\nM 31.78125 74.21875 \nQ 44.046875 74.21875 50.515625 64.515625 \nQ 56.984375 54.828125 56.984375 36.375 \nQ 56.984375 17.96875 50.515625 8.265625 \nQ 44.046875 -1.421875 31.78125 -1.421875 \nQ 19.53125 -1.421875 13.0625 8.265625 \nQ 6.59375 17.96875 6.59375 36.375 \nQ 6.59375 54.828125 13.0625 64.515625 \nQ 19.53125 74.21875 31.78125 74.21875 \nz\n\" id=\"DejaVuSans-48\"/>\n       </defs>\n       <use xlink:href=\"#DejaVuSans-48\"/>\n      </g>\n     </g>\n    </g>\n    <g id=\"xtick_2\">\n     <g id=\"line2d_2\">\n      <g>\n       <use style=\"stroke:#000000;stroke-width:0.8;\" x=\"72.5874\" xlink:href=\"#m2c1ebf3212\" y=\"226.264819\"/>\n      </g>\n     </g>\n     <g id=\"text_2\">\n      <!-- 10 -->\n      <g transform=\"translate(66.2249 240.863256)scale(0.1 -0.1)\">\n       <defs>\n        <path d=\"M 12.40625 8.296875 \nL 28.515625 8.296875 \nL 28.515625 63.921875 \nL 10.984375 60.40625 \nL 10.984375 69.390625 \nL 28.421875 72.90625 \nL 38.28125 72.90625 \nL 38.28125 8.296875 \nL 54.390625 8.296875 \nL 54.390625 0 \nL 12.40625 0 \nz\n\" id=\"DejaVuSans-49\"/>\n       </defs>\n       <use xlink:href=\"#DejaVuSans-49\"/>\n       <use x=\"63.623047\" xlink:href=\"#DejaVuSans-48\"/>\n      </g>\n     </g>\n    </g>\n    <g id=\"xtick_3\">\n     <g id=\"line2d_3\">\n      <g>\n       <use style=\"stroke:#000000;stroke-width:0.8;\" x=\"116.0754\" xlink:href=\"#m2c1ebf3212\" y=\"226.264819\"/>\n      </g>\n     </g>\n     <g id=\"text_3\">\n      <!-- 20 -->\n      <g transform=\"translate(109.7129 240.863256)scale(0.1 -0.1)\">\n       <defs>\n        <path d=\"M 19.1875 8.296875 \nL 53.609375 8.296875 \nL 53.609375 0 \nL 7.328125 0 \nL 7.328125 8.296875 \nQ 12.9375 14.109375 22.625 23.890625 \nQ 32.328125 33.6875 34.8125 36.53125 \nQ 39.546875 41.84375 41.421875 45.53125 \nQ 43.3125 49.21875 43.3125 52.78125 \nQ 43.3125 58.59375 39.234375 62.25 \nQ 35.15625 65.921875 28.609375 65.921875 \nQ 23.96875 65.921875 18.8125 64.3125 \nQ 13.671875 62.703125 7.8125 59.421875 \nL 7.8125 69.390625 \nQ 13.765625 71.78125 18.9375 73 \nQ 24.125 74.21875 28.421875 74.21875 \nQ 39.75 74.21875 46.484375 68.546875 \nQ 53.21875 62.890625 53.21875 53.421875 \nQ 53.21875 48.921875 51.53125 44.890625 \nQ 49.859375 40.875 45.40625 35.40625 \nQ 44.1875 33.984375 37.640625 27.21875 \nQ 31.109375 20.453125 19.1875 8.296875 \nz\n\" id=\"DejaVuSans-50\"/>\n       </defs>\n       <use xlink:href=\"#DejaVuSans-50\"/>\n       <use x=\"63.623047\" xlink:href=\"#DejaVuSans-48\"/>\n      </g>\n     </g>\n    </g>\n    <g id=\"xtick_4\">\n     <g id=\"line2d_4\">\n      <g>\n       <use style=\"stroke:#000000;stroke-width:0.8;\" x=\"159.5634\" xlink:href=\"#m2c1ebf3212\" y=\"226.264819\"/>\n      </g>\n     </g>\n     <g id=\"text_4\">\n      <!-- 30 -->\n      <g transform=\"translate(153.2009 240.863256)scale(0.1 -0.1)\">\n       <defs>\n        <path d=\"M 40.578125 39.3125 \nQ 47.65625 37.796875 51.625 33 \nQ 55.609375 28.21875 55.609375 21.1875 \nQ 55.609375 10.40625 48.1875 4.484375 \nQ 40.765625 -1.421875 27.09375 -1.421875 \nQ 22.515625 -1.421875 17.65625 -0.515625 \nQ 12.796875 0.390625 7.625 2.203125 \nL 7.625 11.71875 \nQ 11.71875 9.328125 16.59375 8.109375 \nQ 21.484375 6.890625 26.8125 6.890625 \nQ 36.078125 6.890625 40.9375 10.546875 \nQ 45.796875 14.203125 45.796875 21.1875 \nQ 45.796875 27.640625 41.28125 31.265625 \nQ 36.765625 34.90625 28.71875 34.90625 \nL 20.21875 34.90625 \nL 20.21875 43.015625 \nL 29.109375 43.015625 \nQ 36.375 43.015625 40.234375 45.921875 \nQ 44.09375 48.828125 44.09375 54.296875 \nQ 44.09375 59.90625 40.109375 62.90625 \nQ 36.140625 65.921875 28.71875 65.921875 \nQ 24.65625 65.921875 20.015625 65.03125 \nQ 15.375 64.15625 9.8125 62.3125 \nL 9.8125 71.09375 \nQ 15.4375 72.65625 20.34375 73.4375 \nQ 25.25 74.21875 29.59375 74.21875 \nQ 40.828125 74.21875 47.359375 69.109375 \nQ 53.90625 64.015625 53.90625 55.328125 \nQ 53.90625 49.265625 50.4375 45.09375 \nQ 46.96875 40.921875 40.578125 39.3125 \nz\n\" id=\"DejaVuSans-51\"/>\n       </defs>\n       <use xlink:href=\"#DejaVuSans-51\"/>\n       <use x=\"63.623047\" xlink:href=\"#DejaVuSans-48\"/>\n      </g>\n     </g>\n    </g>\n    <g id=\"xtick_5\">\n     <g id=\"line2d_5\">\n      <g>\n       <use style=\"stroke:#000000;stroke-width:0.8;\" x=\"203.0514\" xlink:href=\"#m2c1ebf3212\" y=\"226.264819\"/>\n      </g>\n     </g>\n     <g id=\"text_5\">\n      <!-- 40 -->\n      <g transform=\"translate(196.6889 240.863256)scale(0.1 -0.1)\">\n       <defs>\n        <path d=\"M 37.796875 64.3125 \nL 12.890625 25.390625 \nL 37.796875 25.390625 \nz\nM 35.203125 72.90625 \nL 47.609375 72.90625 \nL 47.609375 25.390625 \nL 58.015625 25.390625 \nL 58.015625 17.1875 \nL 47.609375 17.1875 \nL 47.609375 0 \nL 37.796875 0 \nL 37.796875 17.1875 \nL 4.890625 17.1875 \nL 4.890625 26.703125 \nz\n\" id=\"DejaVuSans-52\"/>\n       </defs>\n       <use xlink:href=\"#DejaVuSans-52\"/>\n       <use x=\"63.623047\" xlink:href=\"#DejaVuSans-48\"/>\n      </g>\n     </g>\n    </g>\n   </g>\n   <g id=\"matplotlib.axis_2\">\n    <g id=\"ytick_1\">\n     <g id=\"line2d_6\">\n      <defs>\n       <path d=\"M 0 0 \nL -3.5 0 \n\" id=\"m44ed804544\" style=\"stroke:#000000;stroke-width:0.8;\"/>\n      </defs>\n      <g>\n       <use style=\"stroke:#000000;stroke-width:0.8;\" x=\"26.925\" xlink:href=\"#m44ed804544\" y=\"10.999219\"/>\n      </g>\n     </g>\n     <g id=\"text_6\">\n      <!-- 0 -->\n      <g transform=\"translate(13.5625 14.798437)scale(0.1 -0.1)\">\n       <use xlink:href=\"#DejaVuSans-48\"/>\n      </g>\n     </g>\n    </g>\n    <g id=\"ytick_2\">\n     <g id=\"line2d_7\">\n      <g>\n       <use style=\"stroke:#000000;stroke-width:0.8;\" x=\"26.925\" xlink:href=\"#m44ed804544\" y=\"54.487219\"/>\n      </g>\n     </g>\n     <g id=\"text_7\">\n      <!-- 10 -->\n      <g transform=\"translate(7.2 58.286437)scale(0.1 -0.1)\">\n       <use xlink:href=\"#DejaVuSans-49\"/>\n       <use x=\"63.623047\" xlink:href=\"#DejaVuSans-48\"/>\n      </g>\n     </g>\n    </g>\n    <g id=\"ytick_3\">\n     <g id=\"line2d_8\">\n      <g>\n       <use style=\"stroke:#000000;stroke-width:0.8;\" x=\"26.925\" xlink:href=\"#m44ed804544\" y=\"97.975219\"/>\n      </g>\n     </g>\n     <g id=\"text_8\">\n      <!-- 20 -->\n      <g transform=\"translate(7.2 101.774437)scale(0.1 -0.1)\">\n       <use xlink:href=\"#DejaVuSans-50\"/>\n       <use x=\"63.623047\" xlink:href=\"#DejaVuSans-48\"/>\n      </g>\n     </g>\n    </g>\n    <g id=\"ytick_4\">\n     <g id=\"line2d_9\">\n      <g>\n       <use style=\"stroke:#000000;stroke-width:0.8;\" x=\"26.925\" xlink:href=\"#m44ed804544\" y=\"141.463219\"/>\n      </g>\n     </g>\n     <g id=\"text_9\">\n      <!-- 30 -->\n      <g transform=\"translate(7.2 145.262437)scale(0.1 -0.1)\">\n       <use xlink:href=\"#DejaVuSans-51\"/>\n       <use x=\"63.623047\" xlink:href=\"#DejaVuSans-48\"/>\n      </g>\n     </g>\n    </g>\n    <g id=\"ytick_5\">\n     <g id=\"line2d_10\">\n      <g>\n       <use style=\"stroke:#000000;stroke-width:0.8;\" x=\"26.925\" xlink:href=\"#m44ed804544\" y=\"184.951219\"/>\n      </g>\n     </g>\n     <g id=\"text_10\">\n      <!-- 40 -->\n      <g transform=\"translate(7.2 188.750437)scale(0.1 -0.1)\">\n       <use xlink:href=\"#DejaVuSans-52\"/>\n       <use x=\"63.623047\" xlink:href=\"#DejaVuSans-48\"/>\n      </g>\n     </g>\n    </g>\n   </g>\n   <g id=\"patch_3\">\n    <path d=\"M 26.925 226.264819 \nL 26.925 8.824819 \n\" style=\"fill:none;stroke:#000000;stroke-linecap:square;stroke-linejoin:miter;stroke-width:0.8;\"/>\n   </g>\n   <g id=\"patch_4\">\n    <path d=\"M 244.365 226.264819 \nL 244.365 8.824819 \n\" style=\"fill:none;stroke:#000000;stroke-linecap:square;stroke-linejoin:miter;stroke-width:0.8;\"/>\n   </g>\n   <g id=\"patch_5\">\n    <path d=\"M 26.925 226.264819 \nL 244.365 226.264819 \n\" style=\"fill:none;stroke:#000000;stroke-linecap:square;stroke-linejoin:miter;stroke-width:0.8;\"/>\n   </g>\n   <g id=\"patch_6\">\n    <path d=\"M 26.925 8.824819 \nL 244.365 8.824819 \n\" style=\"fill:none;stroke:#000000;stroke-linecap:square;stroke-linejoin:miter;stroke-width:0.8;\"/>\n   </g>\n  </g>\n </g>\n <defs>\n  <clipPath id=\"p1b1ed59472\">\n   <rect height=\"217.44\" width=\"217.44\" x=\"26.925\" y=\"8.824819\"/>\n  </clipPath>\n </defs>\n</svg>\n",
      "image/png": "[encoded data removed]"
     },
     "metadata": {
      "needs_background": "light"
     }
    }
   ],
   "source": [
    "res = cv2.cvtColor(res, cv2.COLOR_BGR2RGB)\n",
    "plt.imshow(res)\n",
    "plt.show()"
   ]
  },
  {
   "cell_type": "code",
   "execution_count": 41,
   "metadata": {},
   "outputs": [
    {
     "output_type": "execute_result",
     "data": {
      "text/plain": [
       "True"
      ]
     },
     "metadata": {},
     "execution_count": 41
    }
   ],
   "source": [
    "cv2.imwrite(\"res.jpg\", res)\n"
   ]
  }
 ]
}
